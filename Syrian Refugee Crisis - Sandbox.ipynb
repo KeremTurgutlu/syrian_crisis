{
 "cells": [
  {
   "cell_type": "markdown",
   "metadata": {},
   "source": [
    "### Sandbox Notebook"
   ]
  },
  {
   "cell_type": "markdown",
   "metadata": {},
   "source": [
    "The main purpose of this project is to shed light to the biggest refuge crisis in history over time by story telling with visualization."
   ]
  },
  {
   "cell_type": "code",
   "execution_count": 1,
   "metadata": {},
   "outputs": [],
   "source": [
    "%matplotlib inline\n",
    "import matplotlib.pyplot as plt\n",
    "import pandas as pd\n",
    "import numpy as np\n",
    "from pathlib import *"
   ]
  },
  {
   "cell_type": "code",
   "execution_count": 2,
   "metadata": {},
   "outputs": [],
   "source": [
    "unhcr = list(Path('data/unhcr/').iterdir())"
   ]
  },
  {
   "cell_type": "code",
   "execution_count": 3,
   "metadata": {},
   "outputs": [
    {
     "data": {
      "text/plain": [
       "[PosixPath('data/unhcr/asylum_seekers_monthly.csv'),\n",
       " PosixPath('data/unhcr/resettlement.csv'),\n",
       " PosixPath('data/unhcr/demographics.csv'),\n",
       " PosixPath('data/unhcr/time_series.csv'),\n",
       " PosixPath('data/unhcr/asylum_seekers.csv'),\n",
       " PosixPath('data/unhcr/persons_of_concern.csv')]"
      ]
     },
     "execution_count": 3,
     "metadata": {},
     "output_type": "execute_result"
    }
   ],
   "source": [
    "unhcr"
   ]
  },
  {
   "cell_type": "markdown",
   "metadata": {},
   "source": [
    "### Data Preprocess"
   ]
  },
  {
   "cell_type": "code",
   "execution_count": 5,
   "metadata": {},
   "outputs": [
    {
     "name": "stderr",
     "output_type": "stream",
     "text": [
      "/home/kerem/anaconda3/envs/fastai/lib/python3.6/site-packages/IPython/core/interactiveshell.py:2728: DtypeWarning: Columns (4) have mixed types. Specify dtype option on import or set low_memory=False.\n",
      "  interactivity=interactivity, compiler=compiler, result=result)\n",
      "/home/kerem/anaconda3/envs/fastai/lib/python3.6/site-packages/IPython/core/interactiveshell.py:2728: DtypeWarning: Columns (4,5,6,7,8,9,10,11,12,13) have mixed types. Specify dtype option on import or set low_memory=False.\n",
      "  interactivity=interactivity, compiler=compiler, result=result)\n",
      "/home/kerem/anaconda3/envs/fastai/lib/python3.6/site-packages/IPython/core/interactiveshell.py:2728: DtypeWarning: Columns (3,4,5,8,9,10) have mixed types. Specify dtype option on import or set low_memory=False.\n",
      "  interactivity=interactivity, compiler=compiler, result=result)\n"
     ]
    }
   ],
   "source": [
    "# Data has mixed types\n",
    "asylum_seekers_monthly = pd.read_csv(unhcr[0])\n",
    "resettlement = pd.read_csv(unhcr[1])\n",
    "demographics = pd.read_csv(unhcr[2])\n",
    "time_series = pd.read_csv(unhcr[3])\n",
    "asylum_seekers = pd.read_csv(unhcr[4])\n",
    "persons_of_concern = pd.read_csv(unhcr[5])"
   ]
  },
  {
   "cell_type": "code",
   "execution_count": 6,
   "metadata": {},
   "outputs": [
    {
     "data": {
      "text/html": [
       "<div>\n",
       "<table border=\"1\" class=\"dataframe\">\n",
       "  <thead>\n",
       "    <tr style=\"text-align: right;\">\n",
       "      <th></th>\n",
       "      <th>Country / territory of asylum/residence</th>\n",
       "      <th>Origin</th>\n",
       "      <th>Year</th>\n",
       "      <th>Month</th>\n",
       "      <th>Value</th>\n",
       "    </tr>\n",
       "  </thead>\n",
       "  <tbody>\n",
       "    <tr>\n",
       "      <th>0</th>\n",
       "      <td>Australia</td>\n",
       "      <td>Afghanistan</td>\n",
       "      <td>1999</td>\n",
       "      <td>January</td>\n",
       "      <td>8</td>\n",
       "    </tr>\n",
       "    <tr>\n",
       "      <th>1</th>\n",
       "      <td>Australia</td>\n",
       "      <td>Afghanistan</td>\n",
       "      <td>1999</td>\n",
       "      <td>February</td>\n",
       "      <td>10</td>\n",
       "    </tr>\n",
       "  </tbody>\n",
       "</table>\n",
       "</div>"
      ],
      "text/plain": [
       "  Country / territory of asylum/residence       Origin  Year     Month Value\n",
       "0                               Australia  Afghanistan  1999   January     8\n",
       "1                               Australia  Afghanistan  1999  February    10"
      ]
     },
     "execution_count": 6,
     "metadata": {},
     "output_type": "execute_result"
    }
   ],
   "source": [
    "# What is trend ? Where is to trend ?\n",
    "asylum_seekers_monthly.head(2)"
   ]
  },
  {
   "cell_type": "code",
   "execution_count": 13,
   "metadata": {},
   "outputs": [
    {
     "data": {
      "text/plain": [
       "Year                                        int64\n",
       "Country / territory of asylum/residence    object\n",
       "Origin                                     object\n",
       "RSD procedure type / level                 object\n",
       "Tota pending start-year                    object\n",
       "of which UNHCR-assisted(start-year)        object\n",
       "Applied during year                        object\n",
       "decisions_recognized                       object\n",
       "decisions_other                            object\n",
       "Rejected                                   object\n",
       "Otherwise closed                           object\n",
       "Total decisions                            object\n",
       "Total pending end-year                     object\n",
       "of which UNHCR-assisted(end-year)          object\n",
       "dtype: object"
      ]
     },
     "execution_count": 13,
     "metadata": {},
     "output_type": "execute_result"
    }
   ],
   "source": [
    "asylum_seekers.dtypes"
   ]
  },
  {
   "cell_type": "code",
   "execution_count": 7,
   "metadata": {},
   "outputs": [
    {
     "data": {
      "text/html": [
       "<div>\n",
       "<table border=\"1\" class=\"dataframe\">\n",
       "  <thead>\n",
       "    <tr style=\"text-align: right;\">\n",
       "      <th></th>\n",
       "      <th>Country / territory of asylum/residence</th>\n",
       "      <th>Origin</th>\n",
       "      <th>Year</th>\n",
       "      <th>Value</th>\n",
       "    </tr>\n",
       "  </thead>\n",
       "  <tbody>\n",
       "    <tr>\n",
       "      <th>0</th>\n",
       "      <td>Canada</td>\n",
       "      <td>Albania</td>\n",
       "      <td>1959</td>\n",
       "      <td>17</td>\n",
       "    </tr>\n",
       "    <tr>\n",
       "      <th>1</th>\n",
       "      <td>Canada</td>\n",
       "      <td>Austria</td>\n",
       "      <td>1959</td>\n",
       "      <td>17</td>\n",
       "    </tr>\n",
       "  </tbody>\n",
       "</table>\n",
       "</div>"
      ],
      "text/plain": [
       "  Country / territory of asylum/residence   Origin  Year Value\n",
       "0                                  Canada  Albania  1959    17\n",
       "1                                  Canada  Austria  1959    17"
      ]
     },
     "execution_count": 7,
     "metadata": {},
     "output_type": "execute_result"
    }
   ],
   "source": [
    "# Resettlement is the transfer of refugees from an asylum country \n",
    "# to another State that has agreed to admit them and ultimately grant them permanent settlement. \n",
    "# Who helps for good ?\n",
    "resettlement.head(2)"
   ]
  },
  {
   "cell_type": "code",
   "execution_count": 14,
   "metadata": {},
   "outputs": [
    {
     "data": {
      "text/plain": [
       "Country / territory of asylum/residence    object\n",
       "Origin                                     object\n",
       "Year                                        int64\n",
       "Value                                      object\n",
       "dtype: object"
      ]
     },
     "execution_count": 14,
     "metadata": {},
     "output_type": "execute_result"
    }
   ],
   "source": [
    "resettlement.dtypes"
   ]
  },
  {
   "cell_type": "code",
   "execution_count": 8,
   "metadata": {},
   "outputs": [
    {
     "data": {
      "text/html": [
       "<div>\n",
       "<table border=\"1\" class=\"dataframe\">\n",
       "  <thead>\n",
       "    <tr style=\"text-align: right;\">\n",
       "      <th></th>\n",
       "      <th>Year</th>\n",
       "      <th>Country / territory of asylum/residence</th>\n",
       "      <th>Origin</th>\n",
       "      <th>Population type</th>\n",
       "      <th>Value</th>\n",
       "    </tr>\n",
       "  </thead>\n",
       "  <tbody>\n",
       "    <tr>\n",
       "      <th>0</th>\n",
       "      <td>1951</td>\n",
       "      <td>Australia</td>\n",
       "      <td>Various/Unknown</td>\n",
       "      <td>Refugees (incl. refugee-like situations)</td>\n",
       "      <td>180000</td>\n",
       "    </tr>\n",
       "    <tr>\n",
       "      <th>1</th>\n",
       "      <td>1951</td>\n",
       "      <td>Austria</td>\n",
       "      <td>Various/Unknown</td>\n",
       "      <td>Refugees (incl. refugee-like situations)</td>\n",
       "      <td>282000</td>\n",
       "    </tr>\n",
       "  </tbody>\n",
       "</table>\n",
       "</div>"
      ],
      "text/plain": [
       "   Year Country / territory of asylum/residence           Origin  \\\n",
       "0  1951                               Australia  Various/Unknown   \n",
       "1  1951                                 Austria  Various/Unknown   \n",
       "\n",
       "                            Population type   Value  \n",
       "0  Refugees (incl. refugee-like situations)  180000  \n",
       "1  Refugees (incl. refugee-like situations)  282000  "
      ]
     },
     "execution_count": 8,
     "metadata": {},
     "output_type": "execute_result"
    }
   ],
   "source": [
    "# yearly flow of type of population\n",
    "time_series.head(2)"
   ]
  },
  {
   "cell_type": "code",
   "execution_count": 15,
   "metadata": {},
   "outputs": [
    {
     "data": {
      "text/plain": [
       "Year                                        int64\n",
       "Country / territory of asylum/residence    object\n",
       "Origin                                     object\n",
       "Population type                            object\n",
       "Value                                      object\n",
       "dtype: object"
      ]
     },
     "execution_count": 15,
     "metadata": {},
     "output_type": "execute_result"
    }
   ],
   "source": [
    "time_series.dtypes"
   ]
  },
  {
   "cell_type": "code",
   "execution_count": 10,
   "metadata": {},
   "outputs": [
    {
     "data": {
      "text/html": [
       "<div>\n",
       "<table border=\"1\" class=\"dataframe\">\n",
       "  <thead>\n",
       "    <tr style=\"text-align: right;\">\n",
       "      <th></th>\n",
       "      <th>Year</th>\n",
       "      <th>Country / territory of asylum/residence</th>\n",
       "      <th>Location Name</th>\n",
       "      <th>Female 0-4</th>\n",
       "      <th>Female 5-11</th>\n",
       "      <th>Female 5-17</th>\n",
       "      <th>Female 12-17</th>\n",
       "      <th>Female 18-59</th>\n",
       "      <th>Female 60+</th>\n",
       "      <th>F: Unknown</th>\n",
       "      <th>F: Total</th>\n",
       "      <th>Male 0-4</th>\n",
       "      <th>Male 5-11</th>\n",
       "      <th>Male 5-17</th>\n",
       "      <th>Male 12-17</th>\n",
       "      <th>Male 18-59</th>\n",
       "      <th>Male 60+</th>\n",
       "      <th>M: Unknown</th>\n",
       "      <th>M: Total</th>\n",
       "    </tr>\n",
       "  </thead>\n",
       "  <tbody>\n",
       "    <tr>\n",
       "      <th>0</th>\n",
       "      <td>2001</td>\n",
       "      <td>Afghanistan</td>\n",
       "      <td>Kabul</td>\n",
       "      <td>0</td>\n",
       "      <td>NaN</td>\n",
       "      <td>1.0</td>\n",
       "      <td>NaN</td>\n",
       "      <td>1</td>\n",
       "      <td>0</td>\n",
       "      <td>0.0</td>\n",
       "      <td>2</td>\n",
       "      <td>0</td>\n",
       "      <td>NaN</td>\n",
       "      <td>0.0</td>\n",
       "      <td>NaN</td>\n",
       "      <td>2</td>\n",
       "      <td>0</td>\n",
       "      <td>0.0</td>\n",
       "      <td>2</td>\n",
       "    </tr>\n",
       "    <tr>\n",
       "      <th>1</th>\n",
       "      <td>2001</td>\n",
       "      <td>Afghanistan</td>\n",
       "      <td>Various</td>\n",
       "      <td>14335</td>\n",
       "      <td>NaN</td>\n",
       "      <td>45451.0</td>\n",
       "      <td>NaN</td>\n",
       "      <td>99880</td>\n",
       "      <td>19234</td>\n",
       "      <td>412004.0</td>\n",
       "      <td>590904</td>\n",
       "      <td>14716</td>\n",
       "      <td>NaN</td>\n",
       "      <td>47522.0</td>\n",
       "      <td>NaN</td>\n",
       "      <td>114965</td>\n",
       "      <td>13025</td>\n",
       "      <td>435492.0</td>\n",
       "      <td>625720</td>\n",
       "    </tr>\n",
       "  </tbody>\n",
       "</table>\n",
       "</div>"
      ],
      "text/plain": [
       "   Year Country / territory of asylum/residence Location Name Female 0-4  \\\n",
       "0  2001                             Afghanistan         Kabul          0   \n",
       "1  2001                             Afghanistan       Various      14335   \n",
       "\n",
       "  Female 5-11  Female 5-17 Female 12-17 Female 18-59 Female 60+  F: Unknown  \\\n",
       "0         NaN          1.0          NaN            1          0         0.0   \n",
       "1         NaN      45451.0          NaN        99880      19234    412004.0   \n",
       "\n",
       "  F: Total Male 0-4 Male 5-11  Male 5-17 Male 12-17 Male 18-59 Male 60+  \\\n",
       "0        2        0       NaN        0.0        NaN          2        0   \n",
       "1   590904    14716       NaN    47522.0        NaN     114965    13025   \n",
       "\n",
       "   M: Unknown M: Total  \n",
       "0         0.0        2  \n",
       "1    435492.0   625720  "
      ]
     },
     "execution_count": 10,
     "metadata": {},
     "output_type": "execute_result"
    }
   ],
   "source": [
    "# refugee demographics by countries\n",
    "# Who is affected the most ?\n",
    "demographics.head(2)"
   ]
  },
  {
   "cell_type": "code",
   "execution_count": 16,
   "metadata": {},
   "outputs": [
    {
     "data": {
      "text/plain": [
       "Year                                         int64\n",
       "Country / territory of asylum/residence     object\n",
       "Location Name                               object\n",
       "Female 0-4                                  object\n",
       "Female 5-11                                 object\n",
       "Female 5-17                                float64\n",
       "Female 12-17                                object\n",
       "Female 18-59                                object\n",
       "Female 60+                                  object\n",
       "F: Unknown                                 float64\n",
       "F: Total                                    object\n",
       "Male 0-4                                    object\n",
       "Male 5-11                                   object\n",
       "Male 5-17                                  float64\n",
       "Male 12-17                                  object\n",
       "Male 18-59                                  object\n",
       "Male 60+                                    object\n",
       "M: Unknown                                 float64\n",
       "M: Total                                    object\n",
       "dtype: object"
      ]
     },
     "execution_count": 16,
     "metadata": {},
     "output_type": "execute_result"
    }
   ],
   "source": [
    "demographics.dtypes"
   ]
  },
  {
   "cell_type": "code",
   "execution_count": 11,
   "metadata": {},
   "outputs": [
    {
     "data": {
      "text/html": [
       "<div>\n",
       "<table border=\"1\" class=\"dataframe\">\n",
       "  <thead>\n",
       "    <tr style=\"text-align: right;\">\n",
       "      <th></th>\n",
       "      <th>Year</th>\n",
       "      <th>Country / territory of asylum/residence</th>\n",
       "      <th>Origin</th>\n",
       "      <th>RSD procedure type / level</th>\n",
       "      <th>Tota pending start-year</th>\n",
       "      <th>of which UNHCR-assisted(start-year)</th>\n",
       "      <th>Applied during year</th>\n",
       "      <th>decisions_recognized</th>\n",
       "      <th>decisions_other</th>\n",
       "      <th>Rejected</th>\n",
       "      <th>Otherwise closed</th>\n",
       "      <th>Total decisions</th>\n",
       "      <th>Total pending end-year</th>\n",
       "      <th>of which UNHCR-assisted(end-year)</th>\n",
       "    </tr>\n",
       "  </thead>\n",
       "  <tbody>\n",
       "    <tr>\n",
       "      <th>0</th>\n",
       "      <td>2000</td>\n",
       "      <td>Zimbabwe</td>\n",
       "      <td>Afghanistan</td>\n",
       "      <td>G / FI</td>\n",
       "      <td>0</td>\n",
       "      <td>0</td>\n",
       "      <td>5</td>\n",
       "      <td>5</td>\n",
       "      <td>0</td>\n",
       "      <td>0</td>\n",
       "      <td>0</td>\n",
       "      <td>5</td>\n",
       "      <td>0</td>\n",
       "      <td>0</td>\n",
       "    </tr>\n",
       "    <tr>\n",
       "      <th>1</th>\n",
       "      <td>2000</td>\n",
       "      <td>South Africa</td>\n",
       "      <td>Afghanistan</td>\n",
       "      <td>G / FI</td>\n",
       "      <td>8</td>\n",
       "      <td>1</td>\n",
       "      <td>0</td>\n",
       "      <td>0</td>\n",
       "      <td>0</td>\n",
       "      <td>0</td>\n",
       "      <td>0</td>\n",
       "      <td>NaN</td>\n",
       "      <td>8</td>\n",
       "      <td>0</td>\n",
       "    </tr>\n",
       "  </tbody>\n",
       "</table>\n",
       "</div>"
      ],
      "text/plain": [
       "   Year Country / territory of asylum/residence       Origin  \\\n",
       "0  2000                                Zimbabwe  Afghanistan   \n",
       "1  2000                            South Africa  Afghanistan   \n",
       "\n",
       "  RSD procedure type / level Tota pending start-year  \\\n",
       "0                     G / FI                       0   \n",
       "1                     G / FI                       8   \n",
       "\n",
       "  of which UNHCR-assisted(start-year) Applied during year  \\\n",
       "0                                   0                   5   \n",
       "1                                   1                   0   \n",
       "\n",
       "  decisions_recognized decisions_other Rejected Otherwise closed  \\\n",
       "0                    5               0        0                0   \n",
       "1                    0               0        0                0   \n",
       "\n",
       "  Total decisions Total pending end-year of which UNHCR-assisted(end-year)  \n",
       "0               5                      0                                 0  \n",
       "1             NaN                      8                                 0  "
      ]
     },
     "execution_count": 11,
     "metadata": {},
     "output_type": "execute_result"
    }
   ],
   "source": [
    "# Who helps the most ? To whom people ask help ? What helps the most ?\n",
    "asylum_seekers.head(2)"
   ]
  },
  {
   "cell_type": "code",
   "execution_count": 17,
   "metadata": {},
   "outputs": [
    {
     "data": {
      "text/plain": [
       "Year                                        int64\n",
       "Country / territory of asylum/residence    object\n",
       "Origin                                     object\n",
       "RSD procedure type / level                 object\n",
       "Tota pending start-year                    object\n",
       "of which UNHCR-assisted(start-year)        object\n",
       "Applied during year                        object\n",
       "decisions_recognized                       object\n",
       "decisions_other                            object\n",
       "Rejected                                   object\n",
       "Otherwise closed                           object\n",
       "Total decisions                            object\n",
       "Total pending end-year                     object\n",
       "of which UNHCR-assisted(end-year)          object\n",
       "dtype: object"
      ]
     },
     "execution_count": 17,
     "metadata": {},
     "output_type": "execute_result"
    }
   ],
   "source": [
    "asylum_seekers.dtypes"
   ]
  },
  {
   "cell_type": "code",
   "execution_count": 18,
   "metadata": {},
   "outputs": [
    {
     "data": {
      "text/html": [
       "<div>\n",
       "<table border=\"1\" class=\"dataframe\">\n",
       "  <thead>\n",
       "    <tr style=\"text-align: right;\">\n",
       "      <th></th>\n",
       "      <th>Year</th>\n",
       "      <th>Country / territory of asylum/residence</th>\n",
       "      <th>Origin</th>\n",
       "      <th>Refugees (incl. refugee-like situations)</th>\n",
       "      <th>Asylum-seekers (pending cases)</th>\n",
       "      <th>Returned refugees</th>\n",
       "      <th>Internally displaced persons (IDPs)</th>\n",
       "      <th>Returned IDPs</th>\n",
       "      <th>Stateless persons</th>\n",
       "      <th>Others of concern</th>\n",
       "      <th>Total Population</th>\n",
       "    </tr>\n",
       "  </thead>\n",
       "  <tbody>\n",
       "    <tr>\n",
       "      <th>0</th>\n",
       "      <td>1951</td>\n",
       "      <td>Australia</td>\n",
       "      <td>Various/Unknown</td>\n",
       "      <td>180000</td>\n",
       "      <td>NaN</td>\n",
       "      <td>NaN</td>\n",
       "      <td>NaN</td>\n",
       "      <td>NaN</td>\n",
       "      <td>NaN</td>\n",
       "      <td>NaN</td>\n",
       "      <td>180000</td>\n",
       "    </tr>\n",
       "    <tr>\n",
       "      <th>1</th>\n",
       "      <td>1951</td>\n",
       "      <td>Austria</td>\n",
       "      <td>Various/Unknown</td>\n",
       "      <td>282000</td>\n",
       "      <td>NaN</td>\n",
       "      <td>NaN</td>\n",
       "      <td>NaN</td>\n",
       "      <td>NaN</td>\n",
       "      <td>NaN</td>\n",
       "      <td>NaN</td>\n",
       "      <td>282000</td>\n",
       "    </tr>\n",
       "  </tbody>\n",
       "</table>\n",
       "</div>"
      ],
      "text/plain": [
       "   Year Country / territory of asylum/residence           Origin  \\\n",
       "0  1951                               Australia  Various/Unknown   \n",
       "1  1951                                 Austria  Various/Unknown   \n",
       "\n",
       "  Refugees (incl. refugee-like situations) Asylum-seekers (pending cases)  \\\n",
       "0                                   180000                            NaN   \n",
       "1                                   282000                            NaN   \n",
       "\n",
       "  Returned refugees  Internally displaced persons (IDPs)  Returned IDPs  \\\n",
       "0               NaN                                  NaN            NaN   \n",
       "1               NaN                                  NaN            NaN   \n",
       "\n",
       "  Stateless persons Others of concern Total Population  \n",
       "0               NaN               NaN           180000  \n",
       "1               NaN               NaN           282000  "
      ]
     },
     "execution_count": 18,
     "metadata": {},
     "output_type": "execute_result"
    }
   ],
   "source": [
    "# pivot format of time_series\n",
    "persons_of_concern.head(2)"
   ]
  },
  {
   "cell_type": "code",
   "execution_count": 19,
   "metadata": {},
   "outputs": [
    {
     "data": {
      "text/plain": [
       "Year                                          int64\n",
       "Country / territory of asylum/residence      object\n",
       "Origin                                       object\n",
       "Refugees (incl. refugee-like situations)     object\n",
       "Asylum-seekers (pending cases)               object\n",
       "Returned refugees                            object\n",
       "Internally displaced persons (IDPs)         float64\n",
       "Returned IDPs                               float64\n",
       "Stateless persons                            object\n",
       "Others of concern                            object\n",
       "Total Population                             object\n",
       "dtype: object"
      ]
     },
     "execution_count": 19,
     "metadata": {},
     "output_type": "execute_result"
    }
   ],
   "source": [
    "persons_of_concern.dtypes"
   ]
  },
  {
   "cell_type": "markdown",
   "metadata": {},
   "source": [
    "### Filter Data\n",
    "\n",
    "\n",
    "We will be filtering the data by:\n",
    "\n",
    "`Origin` == '\\*Syria\\*' and `Year` > 2010"
   ]
  },
  {
   "cell_type": "code",
   "execution_count": 21,
   "metadata": {},
   "outputs": [],
   "source": [
    "def filter_data(data):\n",
    "    if 'Origin' in data.columns:\n",
    "        data = data[(data.Year > 2010) & (data.Origin.str.contains('Syria'))]\n",
    "    else:\n",
    "        data = data[(data.Year > 2010)]\n",
    "    return data"
   ]
  },
  {
   "cell_type": "code",
   "execution_count": 22,
   "metadata": {},
   "outputs": [],
   "source": [
    "asylum_seekers_monthly = filter_data(asylum_seekers_monthly)\n",
    "resettlement = filter_data(resettlement)\n",
    "time_series = filter_data(time_series)\n",
    "demographics = filter_data(demographics)\n",
    "asylum_seekers = filter_data(asylum_seekers)\n",
    "persons_of_concern = filter_data(persons_of_concern)"
   ]
  },
  {
   "cell_type": "code",
   "execution_count": 25,
   "metadata": {},
   "outputs": [
    {
     "data": {
      "text/plain": [
       "(2011, 2016)"
      ]
     },
     "execution_count": 25,
     "metadata": {},
     "output_type": "execute_result"
    }
   ],
   "source": [
    "asylum_seekers.Year.min(), asylum_seekers.Year.max()"
   ]
  },
  {
   "cell_type": "code",
   "execution_count": 26,
   "metadata": {},
   "outputs": [
    {
     "data": {
      "text/plain": [
       "(2011, 2016)"
      ]
     },
     "execution_count": 26,
     "metadata": {},
     "output_type": "execute_result"
    }
   ],
   "source": [
    "resettlement.Year.min(), resettlement.Year.max()"
   ]
  },
  {
   "cell_type": "code",
   "execution_count": 27,
   "metadata": {},
   "outputs": [
    {
     "data": {
      "text/plain": [
       "(2011, 2016)"
      ]
     },
     "execution_count": 27,
     "metadata": {},
     "output_type": "execute_result"
    }
   ],
   "source": [
    "time_series.Year.min(), time_series.Year.max()"
   ]
  },
  {
   "cell_type": "code",
   "execution_count": 28,
   "metadata": {},
   "outputs": [
    {
     "data": {
      "text/plain": [
       "(2011, 2016)"
      ]
     },
     "execution_count": 28,
     "metadata": {},
     "output_type": "execute_result"
    }
   ],
   "source": [
    "demographics.Year.min(), demographics.Year.max()"
   ]
  },
  {
   "cell_type": "code",
   "execution_count": 29,
   "metadata": {},
   "outputs": [
    {
     "data": {
      "text/plain": [
       "(2011, 2016)"
      ]
     },
     "execution_count": 29,
     "metadata": {},
     "output_type": "execute_result"
    }
   ],
   "source": [
    "persons_of_concern.Year.min(), persons_of_concern.Year.max()"
   ]
  },
  {
   "cell_type": "markdown",
   "metadata": {},
   "source": [
    "### Correct Data Types"
   ]
  },
  {
   "cell_type": "code",
   "execution_count": 30,
   "metadata": {},
   "outputs": [],
   "source": [
    "def str2num(data):\n",
    "    \"\"\"\n",
    "    For each object type column check if any entry starts and\n",
    "    ends with a digit. Replace * with np.nan since it's\n",
    "    noted * is used to mask confidential information.\n",
    "    Convert those columns to float type.\n",
    "    \"\"\"\n",
    "    columns = data.select_dtypes(['object']).columns\n",
    "    for c in columns:\n",
    "        if data[c].str.contains('^\\d*\\d$', regex=True).any():\n",
    "            print(f'Converting column : {c}')\n",
    "            data[c] = data[c].replace('*', np.nan).astype(np.float)\n",
    "    return data"
   ]
  },
  {
   "cell_type": "code",
   "execution_count": 31,
   "metadata": {},
   "outputs": [
    {
     "name": "stdout",
     "output_type": "stream",
     "text": [
      "Converting column : Value\n"
     ]
    }
   ],
   "source": [
    "asylum_seekers_monthly = str2num(asylum_seekers_monthly)"
   ]
  },
  {
   "cell_type": "code",
   "execution_count": 32,
   "metadata": {},
   "outputs": [
    {
     "name": "stdout",
     "output_type": "stream",
     "text": [
      "Converting column : Value\n"
     ]
    }
   ],
   "source": [
    "resettlement = str2num(resettlement)"
   ]
  },
  {
   "cell_type": "code",
   "execution_count": 35,
   "metadata": {},
   "outputs": [
    {
     "name": "stdout",
     "output_type": "stream",
     "text": [
      "Converting column : Value\n"
     ]
    }
   ],
   "source": [
    "time_series = str2num(time_series)"
   ]
  },
  {
   "cell_type": "code",
   "execution_count": 36,
   "metadata": {},
   "outputs": [
    {
     "name": "stdout",
     "output_type": "stream",
     "text": [
      "Converting column : Female 0-4\n",
      "Converting column : Female 5-11\n",
      "Converting column : Female 12-17\n",
      "Converting column : Female 18-59\n",
      "Converting column : Female 60+\n",
      "Converting column : F: Total\n",
      "Converting column : Male 0-4\n",
      "Converting column : Male 5-11\n",
      "Converting column : Male 12-17\n",
      "Converting column : Male 18-59\n",
      "Converting column : Male 60+\n",
      "Converting column : M: Total\n"
     ]
    }
   ],
   "source": [
    "demographics = str2num(demographics)"
   ]
  },
  {
   "cell_type": "code",
   "execution_count": 37,
   "metadata": {},
   "outputs": [
    {
     "name": "stdout",
     "output_type": "stream",
     "text": [
      "Converting column : Refugees (incl. refugee-like situations)\n",
      "Converting column : Asylum-seekers (pending cases)\n",
      "Converting column : Returned refugees\n",
      "Converting column : Stateless persons\n",
      "Converting column : Others of concern\n",
      "Converting column : Total Population\n"
     ]
    }
   ],
   "source": [
    "persons_of_concern = str2num(persons_of_concern)"
   ]
  },
  {
   "cell_type": "markdown",
   "metadata": {},
   "source": [
    "### Save new data"
   ]
  },
  {
   "cell_type": "code",
   "execution_count": 38,
   "metadata": {},
   "outputs": [],
   "source": [
    "import os"
   ]
  },
  {
   "cell_type": "code",
   "execution_count": 39,
   "metadata": {},
   "outputs": [],
   "source": [
    "# create new directory for clean data\n",
    "os.makedirs(\"data/unhcr_clean\", exist_ok=False)"
   ]
  },
  {
   "cell_type": "code",
   "execution_count": 42,
   "metadata": {},
   "outputs": [],
   "source": [
    "clean_unhcr = \"data/unhcr_clean/\""
   ]
  },
  {
   "cell_type": "code",
   "execution_count": 47,
   "metadata": {},
   "outputs": [],
   "source": [
    "asylum_seekers_monthly.to_csv(clean_unhcr + unhcr[0].name, index=False)\n",
    "resettlement.to_csv(clean_unhcr + unhcr[1].name, index=False)\n",
    "time_series.to_csv(clean_unhcr + unhcr[2].name, index=False)\n",
    "demographics.to_csv(clean_unhcr + unhcr[3].name, index=False)\n",
    "asylum_seekers.to_csv(clean_unhcr + unhcr[4].name, index=False)\n",
    "persons_of_concern.to_csv(clean_unhcr + unhcr[5].name, index=False)"
   ]
  },
  {
   "cell_type": "markdown",
   "metadata": {},
   "source": [
    "## Questions"
   ]
  },
  {
   "cell_type": "markdown",
   "metadata": {},
   "source": [
    "### How is trend of the Crisis ?\n",
    "\n",
    "wikipedia link for timeline: https://en.wikipedia.org/wiki/Timeline_of_the_Syrian_Civil_War\n",
    "\n",
    "If time allowed timelines can be added to the plots"
   ]
  },
  {
   "cell_type": "code",
   "execution_count": 89,
   "metadata": {},
   "outputs": [],
   "source": [
    "import pdb"
   ]
  },
  {
   "cell_type": "code",
   "execution_count": 48,
   "metadata": {},
   "outputs": [],
   "source": [
    "import plotly.plotly as py\n",
    "import plotly.graph_objs as go"
   ]
  },
  {
   "cell_type": "code",
   "execution_count": 97,
   "metadata": {},
   "outputs": [],
   "source": [
    "def col2dt(data, columns):\n",
    "    \"\"\"Convert Year, Month, Day to Pandas Datetime\"\"\"\n",
    "    #pdb.set_trace()\n",
    "    # extract datetime from Year Month\n",
    "    data = data.copy()\n",
    "    date = \"\"\n",
    "    for c in columns:\n",
    "        date += (data[c].astype(str) + \"/\")\n",
    "    date = date.apply(lambda x: x[:-1])\n",
    "    data[\"date\"] = pd.to_datetime(date)\n",
    "    return data"
   ]
  },
  {
   "cell_type": "code",
   "execution_count": 99,
   "metadata": {
    "scrolled": true
   },
   "outputs": [],
   "source": [
    "asylum_seekers_monthly = col2dt(asylum_seekers_monthly, [\"Year\", \"Month\"])"
   ]
  },
  {
   "cell_type": "code",
   "execution_count": 130,
   "metadata": {},
   "outputs": [
    {
     "data": {
      "text/plain": [
       "(2011, 2017)"
      ]
     },
     "execution_count": 130,
     "metadata": {},
     "output_type": "execute_result"
    }
   ],
   "source": [
    "asylum_seekers_monthly.Year.min(), asylum_seekers_monthly.Year.max()"
   ]
  },
  {
   "cell_type": "markdown",
   "metadata": {},
   "source": [
    "#### a) Number Plot"
   ]
  },
  {
   "cell_type": "code",
   "execution_count": 100,
   "metadata": {},
   "outputs": [
    {
     "data": {
      "text/plain": [
       "45"
      ]
     },
     "execution_count": 100,
     "metadata": {},
     "output_type": "execute_result"
    }
   ],
   "source": [
    "# There is 45 unique countries that refugees seek asylum\n",
    "asylum_seekers_monthly.iloc[:, 0].nunique()"
   ]
  },
  {
   "cell_type": "markdown",
   "metadata": {},
   "source": [
    "#### Global Trend of Syrian Asylum Seekers 2011-2016"
   ]
  },
  {
   "cell_type": "code",
   "execution_count": 104,
   "metadata": {},
   "outputs": [],
   "source": [
    "# CREATE DATA\n",
    "# Total trend over the years of asylum seekers\n",
    "total_asy_seek =\\\n",
    "    asylum_seekers_monthly.groupby(['date'])['Value'].sum().reset_index(drop=False)\n",
    "total_asy_seek.sort_values('date', ascending=True, inplace=True)"
   ]
  },
  {
   "cell_type": "code",
   "execution_count": 105,
   "metadata": {},
   "outputs": [
    {
     "data": {
      "text/html": [
       "<div>\n",
       "<table border=\"1\" class=\"dataframe\">\n",
       "  <thead>\n",
       "    <tr style=\"text-align: right;\">\n",
       "      <th></th>\n",
       "      <th>date</th>\n",
       "      <th>Value</th>\n",
       "    </tr>\n",
       "  </thead>\n",
       "  <tbody>\n",
       "    <tr>\n",
       "      <th>0</th>\n",
       "      <td>2011-01-01</td>\n",
       "      <td>470.0</td>\n",
       "    </tr>\n",
       "    <tr>\n",
       "      <th>1</th>\n",
       "      <td>2011-02-01</td>\n",
       "      <td>436.0</td>\n",
       "    </tr>\n",
       "    <tr>\n",
       "      <th>2</th>\n",
       "      <td>2011-03-01</td>\n",
       "      <td>496.0</td>\n",
       "    </tr>\n",
       "    <tr>\n",
       "      <th>3</th>\n",
       "      <td>2011-04-01</td>\n",
       "      <td>461.0</td>\n",
       "    </tr>\n",
       "    <tr>\n",
       "      <th>4</th>\n",
       "      <td>2011-05-01</td>\n",
       "      <td>570.0</td>\n",
       "    </tr>\n",
       "  </tbody>\n",
       "</table>\n",
       "</div>"
      ],
      "text/plain": [
       "        date  Value\n",
       "0 2011-01-01  470.0\n",
       "1 2011-02-01  436.0\n",
       "2 2011-03-01  496.0\n",
       "3 2011-04-01  461.0\n",
       "4 2011-05-01  570.0"
      ]
     },
     "execution_count": 105,
     "metadata": {},
     "output_type": "execute_result"
    }
   ],
   "source": [
    "total_asy_seek.head()"
   ]
  },
  {
   "cell_type": "code",
   "execution_count": 147,
   "metadata": {},
   "outputs": [],
   "source": [
    "# create plotly data\n",
    "plotly_data = [\n",
    "    go.Scatter(\n",
    "    x=total_asy_seek.date,\n",
    "    y=total_asy_seek.Value,\n",
    "    fill= 'tozeroy')\n",
    "]\n",
    "\n",
    "# create custom layout\n",
    "plotly_layout = go.Layout(\n",
    "    title = \"Global Number of Asylum Seekers Originating From Syria\" ,\n",
    "    \n",
    "    xaxis=dict(\n",
    "        title='Date',\n",
    "        titlefont=dict(\n",
    "            family='Courier New, monospace',\n",
    "            size=18,\n",
    "            color='#7f7f7f'\n",
    "        )\n",
    "    ),\n",
    "    \n",
    "    yaxis=dict(\n",
    "        title='Number of Refugees',\n",
    "        titlefont=dict(\n",
    "            family='Courier New, monospace',\n",
    "            size=18,\n",
    "            color='#7f7f7f'\n",
    "        )\n",
    "    )\n",
    ")\n",
    "\n",
    "# create figure\n",
    "fig = dict(data=plotly_data, layout=plotly_layout)"
   ]
  },
  {
   "cell_type": "code",
   "execution_count": 148,
   "metadata": {},
   "outputs": [
    {
     "data": {
      "text/html": [
       "<iframe id=\"igraph\" scrolling=\"no\" style=\"border:none;\" seamless=\"seamless\" src=\"https://plot.ly/~keremturgutlu/43.embed\" height=\"525px\" width=\"100%\"></iframe>"
      ],
      "text/plain": [
       "<plotly.tools.PlotlyDisplay object>"
      ]
     },
     "execution_count": 148,
     "metadata": {},
     "output_type": "execute_result"
    }
   ],
   "source": [
    "# plot inline\n",
    "py.iplot(fig)"
   ]
  },
  {
   "cell_type": "markdown",
   "metadata": {},
   "source": [
    "#### Country Trend of Syrian Asylum Seekers 2011-2016\n",
    "\n",
    "##### do interacitve map plot over years, time series plot is very crowded and not looking good"
   ]
  },
  {
   "cell_type": "code",
   "execution_count": 113,
   "metadata": {},
   "outputs": [],
   "source": [
    "COUNTRY = asylum_seekers_monthly.columns[0]"
   ]
  },
  {
   "cell_type": "code",
   "execution_count": 114,
   "metadata": {},
   "outputs": [],
   "source": [
    "# CREATE DATA\n",
    "# Total trend over the years of asylum seekers by country\n",
    "total_country_asy_seek =\\\n",
    "    asylum_seekers_monthly.groupby(['date', COUNTRY])['Value'].sum().reset_index(drop=False)\n",
    "total_country_asy_seek.sort_values('date', ascending=True, inplace=True)"
   ]
  },
  {
   "cell_type": "code",
   "execution_count": 119,
   "metadata": {},
   "outputs": [
    {
     "data": {
      "text/html": [
       "<div>\n",
       "<table border=\"1\" class=\"dataframe\">\n",
       "  <thead>\n",
       "    <tr style=\"text-align: right;\">\n",
       "      <th></th>\n",
       "      <th>date</th>\n",
       "      <th>Country / territory of asylum/residence</th>\n",
       "      <th>Value</th>\n",
       "    </tr>\n",
       "  </thead>\n",
       "  <tbody>\n",
       "    <tr>\n",
       "      <th>0</th>\n",
       "      <td>2011-01-01</td>\n",
       "      <td>Austria</td>\n",
       "      <td>26.0</td>\n",
       "    </tr>\n",
       "    <tr>\n",
       "      <th>23</th>\n",
       "      <td>2011-01-01</td>\n",
       "      <td>United Kingdom of Great Britain and Northern I...</td>\n",
       "      <td>6.0</td>\n",
       "    </tr>\n",
       "    <tr>\n",
       "      <th>22</th>\n",
       "      <td>2011-01-01</td>\n",
       "      <td>USA (INS/DHS)</td>\n",
       "      <td>1.0</td>\n",
       "    </tr>\n",
       "    <tr>\n",
       "      <th>21</th>\n",
       "      <td>2011-01-01</td>\n",
       "      <td>USA (EOIR)</td>\n",
       "      <td>8.0</td>\n",
       "    </tr>\n",
       "    <tr>\n",
       "      <th>20</th>\n",
       "      <td>2011-01-01</td>\n",
       "      <td>Turkey</td>\n",
       "      <td>1.0</td>\n",
       "    </tr>\n",
       "  </tbody>\n",
       "</table>\n",
       "</div>"
      ],
      "text/plain": [
       "         date            Country / territory of asylum/residence  Value\n",
       "0  2011-01-01                                            Austria   26.0\n",
       "23 2011-01-01  United Kingdom of Great Britain and Northern I...    6.0\n",
       "22 2011-01-01                                      USA (INS/DHS)    1.0\n",
       "21 2011-01-01                                         USA (EOIR)    8.0\n",
       "20 2011-01-01                                             Turkey    1.0"
      ]
     },
     "execution_count": 119,
     "metadata": {},
     "output_type": "execute_result"
    }
   ],
   "source": [
    "total_country_asy_seek.head()"
   ]
  },
  {
   "cell_type": "code",
   "execution_count": 127,
   "metadata": {},
   "outputs": [
    {
     "data": {
      "text/plain": [
       "(Timestamp('2011-01-01 00:00:00'), Timestamp('2017-05-01 00:00:00'))"
      ]
     },
     "execution_count": 127,
     "metadata": {},
     "output_type": "execute_result"
    }
   ],
   "source": [
    "total_country_asy_seek.date.min(), total_country_asy_seek.date.max()"
   ]
  },
  {
   "cell_type": "code",
   "execution_count": 149,
   "metadata": {},
   "outputs": [
    {
     "name": "stderr",
     "output_type": "stream",
     "text": [
      "/home/kerem/anaconda3/envs/fastai/lib/python3.6/site-packages/ipykernel_launcher.py:10: SettingWithCopyWarning:\n",
      "\n",
      "\n",
      "A value is trying to be set on a copy of a slice from a DataFrame\n",
      "\n",
      "See the caveats in the documentation: http://pandas.pydata.org/pandas-docs/stable/indexing.html#indexing-view-versus-copy\n",
      "\n"
     ]
    }
   ],
   "source": [
    "# create plotly data\n",
    "\n",
    "plotly_data = []\n",
    "uniq_country = total_country_asy_seek[COUNTRY].unique()\n",
    "\n",
    "for country in uniq_country:\n",
    "    # filter by country\n",
    "    country_data = total_country_asy_seek.loc[total_country_asy_seek[COUNTRY] == country, :]\n",
    "    # sort date by ascending\n",
    "    country_data.sort_values(by=\"date\", ascending=True, inplace=True)\n",
    "    \n",
    "    trace = go.Scatter(\n",
    "                x=country_data.date,\n",
    "                y=country_data.Value,\n",
    "                name = f\"{country}\",\n",
    "    #            line = dict(color = '#7F7F7F'),\n",
    "                opacity = 0.8)\n",
    "    plotly_data.append(trace)"
   ]
  },
  {
   "cell_type": "code",
   "execution_count": 154,
   "metadata": {},
   "outputs": [],
   "source": [
    "# create custom layout\n",
    "plotly_layout = go.Layout(\n",
    "    # title\n",
    "    title = \"Number of Asylum Seekers Originating From Syria by Country\" ,\n",
    "    # x-axis\n",
    "    xaxis=dict(\n",
    "        title='Date',\n",
    "        titlefont=dict(\n",
    "            family='Courier New, monospace',\n",
    "            size=18,\n",
    "            color='#7f7f7f'\n",
    "        )\n",
    "    ),\n",
    "    # y-axis\n",
    "    yaxis=dict(\n",
    "        title='Number of Refugees',\n",
    "        titlefont=dict(\n",
    "            family='Courier New, monospace',\n",
    "            size=18,\n",
    "            color='#7f7f7f'\n",
    "        )\n",
    "    )\n",
    ")\n",
    "\n",
    "# create figure\n",
    "fig = dict(data=plotly_data, layout=plotly_layout)"
   ]
  },
  {
   "cell_type": "code",
   "execution_count": 155,
   "metadata": {},
   "outputs": [
    {
     "data": {
      "text/html": [
       "<iframe id=\"igraph\" scrolling=\"no\" style=\"border:none;\" seamless=\"seamless\" src=\"https://plot.ly/~keremturgutlu/49.embed\" height=\"525px\" width=\"100%\"></iframe>"
      ],
      "text/plain": [
       "<plotly.tools.PlotlyDisplay object>"
      ]
     },
     "execution_count": 155,
     "metadata": {},
     "output_type": "execute_result"
    }
   ],
   "source": [
    "# plot inline\n",
    "py.iplot(fig)"
   ]
  },
  {
   "cell_type": "code",
   "execution_count": null,
   "metadata": {},
   "outputs": [],
   "source": []
  },
  {
   "cell_type": "code",
   "execution_count": null,
   "metadata": {},
   "outputs": [],
   "source": []
  },
  {
   "cell_type": "code",
   "execution_count": null,
   "metadata": {},
   "outputs": [],
   "source": []
  },
  {
   "cell_type": "code",
   "execution_count": null,
   "metadata": {},
   "outputs": [],
   "source": []
  },
  {
   "cell_type": "code",
   "execution_count": null,
   "metadata": {},
   "outputs": [],
   "source": []
  },
  {
   "cell_type": "code",
   "execution_count": null,
   "metadata": {},
   "outputs": [],
   "source": []
  },
  {
   "cell_type": "code",
   "execution_count": null,
   "metadata": {},
   "outputs": [],
   "source": []
  },
  {
   "cell_type": "code",
   "execution_count": null,
   "metadata": {},
   "outputs": [],
   "source": []
  },
  {
   "cell_type": "code",
   "execution_count": null,
   "metadata": {},
   "outputs": [],
   "source": []
  },
  {
   "cell_type": "code",
   "execution_count": null,
   "metadata": {},
   "outputs": [],
   "source": []
  },
  {
   "cell_type": "code",
   "execution_count": null,
   "metadata": {},
   "outputs": [],
   "source": []
  },
  {
   "cell_type": "code",
   "execution_count": null,
   "metadata": {},
   "outputs": [],
   "source": []
  },
  {
   "cell_type": "code",
   "execution_count": null,
   "metadata": {},
   "outputs": [],
   "source": []
  },
  {
   "cell_type": "code",
   "execution_count": null,
   "metadata": {},
   "outputs": [],
   "source": []
  },
  {
   "cell_type": "code",
   "execution_count": null,
   "metadata": {},
   "outputs": [],
   "source": []
  },
  {
   "cell_type": "code",
   "execution_count": null,
   "metadata": {},
   "outputs": [],
   "source": []
  },
  {
   "cell_type": "code",
   "execution_count": null,
   "metadata": {},
   "outputs": [],
   "source": []
  },
  {
   "cell_type": "code",
   "execution_count": null,
   "metadata": {},
   "outputs": [],
   "source": []
  },
  {
   "cell_type": "code",
   "execution_count": null,
   "metadata": {},
   "outputs": [],
   "source": []
  },
  {
   "cell_type": "code",
   "execution_count": null,
   "metadata": {},
   "outputs": [],
   "source": []
  },
  {
   "cell_type": "code",
   "execution_count": null,
   "metadata": {},
   "outputs": [],
   "source": []
  },
  {
   "cell_type": "code",
   "execution_count": null,
   "metadata": {},
   "outputs": [],
   "source": []
  },
  {
   "cell_type": "code",
   "execution_count": null,
   "metadata": {},
   "outputs": [],
   "source": []
  },
  {
   "cell_type": "code",
   "execution_count": null,
   "metadata": {},
   "outputs": [],
   "source": []
  },
  {
   "cell_type": "code",
   "execution_count": null,
   "metadata": {},
   "outputs": [],
   "source": []
  },
  {
   "cell_type": "code",
   "execution_count": null,
   "metadata": {},
   "outputs": [],
   "source": []
  },
  {
   "cell_type": "markdown",
   "metadata": {},
   "source": [
    "### Causalities of Civil War\n",
    "\n",
    "Process data"
   ]
  },
  {
   "cell_type": "code",
   "execution_count": 148,
   "metadata": {},
   "outputs": [],
   "source": [
    "causalities = pd.read_csv('./data/civil_war_causalities.csv', encoding=\"ISO-8859-1\")"
   ]
  },
  {
   "cell_type": "code",
   "execution_count": 154,
   "metadata": {},
   "outputs": [
    {
     "data": {
      "text/plain": [
       "name          object\n",
       "status        object\n",
       "gender        object\n",
       "province      object\n",
       "birthPlace    object\n",
       "deathDate     object\n",
       "deathCause    object\n",
       "actor         object\n",
       "dtype: object"
      ]
     },
     "execution_count": 154,
     "metadata": {},
     "output_type": "execute_result"
    }
   ],
   "source": [
    "causalities.dtypes"
   ]
  },
  {
   "cell_type": "code",
   "execution_count": 155,
   "metadata": {},
   "outputs": [
    {
     "data": {
      "text/html": [
       "<div>\n",
       "<table border=\"1\" class=\"dataframe\">\n",
       "  <thead>\n",
       "    <tr style=\"text-align: right;\">\n",
       "      <th></th>\n",
       "      <th>name</th>\n",
       "      <th>status</th>\n",
       "      <th>gender</th>\n",
       "      <th>province</th>\n",
       "      <th>birthPlace</th>\n",
       "      <th>deathDate</th>\n",
       "      <th>deathCause</th>\n",
       "      <th>actor</th>\n",
       "    </tr>\n",
       "  </thead>\n",
       "  <tbody>\n",
       "    <tr>\n",
       "      <th>0</th>\n",
       "      <td>Abo Yazan al-Jbailia</td>\n",
       "      <td>Non-Civilian</td>\n",
       "      <td>Adult - Male</td>\n",
       "      <td>Daraa</td>\n",
       "      <td>Jbailieh</td>\n",
       "      <td>2018-04-13</td>\n",
       "      <td>Explosion</td>\n",
       "      <td>Not identified</td>\n",
       "    </tr>\n",
       "    <tr>\n",
       "      <th>1</th>\n",
       "      <td>Maher Mohammad al-Ezo al-Shami</td>\n",
       "      <td>Civilian</td>\n",
       "      <td>Child - Male</td>\n",
       "      <td>Hama</td>\n",
       "      <td>Huribnefseh</td>\n",
       "      <td>2018-04-13</td>\n",
       "      <td>Shelling</td>\n",
       "      <td>Syrian government and affiliated militias</td>\n",
       "    </tr>\n",
       "  </tbody>\n",
       "</table>\n",
       "</div>"
      ],
      "text/plain": [
       "                             name        status        gender province  \\\n",
       "0            Abo Yazan al-Jbailia  Non-Civilian  Adult - Male    Daraa   \n",
       "1  Maher Mohammad al-Ezo al-Shami      Civilian  Child - Male     Hama   \n",
       "\n",
       "    birthPlace   deathDate deathCause  \\\n",
       "0     Jbailieh  2018-04-13  Explosion   \n",
       "1  Huribnefseh  2018-04-13   Shelling   \n",
       "\n",
       "                                       actor  \n",
       "0                             Not identified  \n",
       "1  Syrian government and affiliated militias  "
      ]
     },
     "execution_count": 155,
     "metadata": {},
     "output_type": "execute_result"
    }
   ],
   "source": [
    "causalities.head(2)"
   ]
  },
  {
   "cell_type": "code",
   "execution_count": 156,
   "metadata": {},
   "outputs": [
    {
     "data": {
      "text/plain": [
       "array(['Explosion', 'Shelling', 'Shooting', 'Warplane shelling',\n",
       "       'Field Execution', 'Chemical and toxic gases',\n",
       "       'Detention - Torture', 'Kidnapping - Execution', 'Other',\n",
       "       'Unknown', 'Un-allowed to seek Medical help', 'Siege',\n",
       "       'Detention - Execution', 'Kidnapping - Torture',\n",
       "       'Kidnapping - Torture - Execution',\n",
       "       'Detention - Torture - Execution', nan], dtype=object)"
      ]
     },
     "execution_count": 156,
     "metadata": {},
     "output_type": "execute_result"
    }
   ],
   "source": [
    "causalities.deathCause.unique()"
   ]
  },
  {
   "cell_type": "code",
   "execution_count": 152,
   "metadata": {},
   "outputs": [
    {
     "data": {
      "text/html": [
       "<div>\n",
       "<table border=\"1\" class=\"dataframe\">\n",
       "  <thead>\n",
       "    <tr style=\"text-align: right;\">\n",
       "      <th></th>\n",
       "      <th>name</th>\n",
       "      <th>status</th>\n",
       "      <th>gender</th>\n",
       "      <th>province</th>\n",
       "      <th>birthPlace</th>\n",
       "      <th>deathDate</th>\n",
       "      <th>deathCause</th>\n",
       "    </tr>\n",
       "    <tr>\n",
       "      <th>actor</th>\n",
       "      <th></th>\n",
       "      <th></th>\n",
       "      <th></th>\n",
       "      <th></th>\n",
       "      <th></th>\n",
       "      <th></th>\n",
       "      <th></th>\n",
       "    </tr>\n",
       "  </thead>\n",
       "  <tbody>\n",
       "    <tr>\n",
       "      <th>Al-Nusra Front</th>\n",
       "      <td>221</td>\n",
       "      <td>221</td>\n",
       "      <td>221</td>\n",
       "      <td>221</td>\n",
       "      <td>174</td>\n",
       "      <td>221</td>\n",
       "      <td>221</td>\n",
       "    </tr>\n",
       "    <tr>\n",
       "      <th>Armed opposition groups</th>\n",
       "      <td>1914</td>\n",
       "      <td>1915</td>\n",
       "      <td>1915</td>\n",
       "      <td>1915</td>\n",
       "      <td>1616</td>\n",
       "      <td>1915</td>\n",
       "      <td>1915</td>\n",
       "    </tr>\n",
       "    <tr>\n",
       "      <th>International coalition forces</th>\n",
       "      <td>2190</td>\n",
       "      <td>2191</td>\n",
       "      <td>2191</td>\n",
       "      <td>2191</td>\n",
       "      <td>1793</td>\n",
       "      <td>2191</td>\n",
       "      <td>2191</td>\n",
       "    </tr>\n",
       "    <tr>\n",
       "      <th>Not identified</th>\n",
       "      <td>3462</td>\n",
       "      <td>3464</td>\n",
       "      <td>3464</td>\n",
       "      <td>3464</td>\n",
       "      <td>3067</td>\n",
       "      <td>3464</td>\n",
       "      <td>3464</td>\n",
       "    </tr>\n",
       "    <tr>\n",
       "      <th>Russian troops</th>\n",
       "      <td>3871</td>\n",
       "      <td>3873</td>\n",
       "      <td>3873</td>\n",
       "      <td>3873</td>\n",
       "      <td>3577</td>\n",
       "      <td>3873</td>\n",
       "      <td>3873</td>\n",
       "    </tr>\n",
       "    <tr>\n",
       "      <th>Self administration forces</th>\n",
       "      <td>599</td>\n",
       "      <td>599</td>\n",
       "      <td>599</td>\n",
       "      <td>599</td>\n",
       "      <td>489</td>\n",
       "      <td>599</td>\n",
       "      <td>599</td>\n",
       "    </tr>\n",
       "    <tr>\n",
       "      <th>Syrian government and affiliated militias</th>\n",
       "      <td>20603</td>\n",
       "      <td>20613</td>\n",
       "      <td>20613</td>\n",
       "      <td>20613</td>\n",
       "      <td>19262</td>\n",
       "      <td>20608</td>\n",
       "      <td>20613</td>\n",
       "    </tr>\n",
       "    <tr>\n",
       "      <th>The organization of the Islamic State in Iraq and the Levant - ISIS</th>\n",
       "      <td>6718</td>\n",
       "      <td>6720</td>\n",
       "      <td>6720</td>\n",
       "      <td>6720</td>\n",
       "      <td>5647</td>\n",
       "      <td>6720</td>\n",
       "      <td>6720</td>\n",
       "    </tr>\n",
       "  </tbody>\n",
       "</table>\n",
       "</div>"
      ],
      "text/plain": [
       "                                                     name  status  gender  \\\n",
       "actor                                                                       \n",
       "Al-Nusra Front                                        221     221     221   \n",
       "Armed opposition groups                              1914    1915    1915   \n",
       "International coalition forces                       2190    2191    2191   \n",
       "Not identified                                       3462    3464    3464   \n",
       "Russian troops                                       3871    3873    3873   \n",
       "Self administration forces                            599     599     599   \n",
       "Syrian government and affiliated militias           20603   20613   20613   \n",
       "The organization of the Islamic State in Iraq a...   6718    6720    6720   \n",
       "\n",
       "                                                    province  birthPlace  \\\n",
       "actor                                                                      \n",
       "Al-Nusra Front                                           221         174   \n",
       "Armed opposition groups                                 1915        1616   \n",
       "International coalition forces                          2191        1793   \n",
       "Not identified                                          3464        3067   \n",
       "Russian troops                                          3873        3577   \n",
       "Self administration forces                               599         489   \n",
       "Syrian government and affiliated militias              20613       19262   \n",
       "The organization of the Islamic State in Iraq a...      6720        5647   \n",
       "\n",
       "                                                    deathDate  deathCause  \n",
       "actor                                                                      \n",
       "Al-Nusra Front                                            221         221  \n",
       "Armed opposition groups                                  1915        1915  \n",
       "International coalition forces                           2191        2191  \n",
       "Not identified                                           3464        3464  \n",
       "Russian troops                                           3873        3873  \n",
       "Self administration forces                                599         599  \n",
       "Syrian government and affiliated militias               20608       20613  \n",
       "The organization of the Islamic State in Iraq a...       6720        6720  "
      ]
     },
     "execution_count": 152,
     "metadata": {},
     "output_type": "execute_result"
    }
   ],
   "source": [
    "causalities.groupby('actor').count()"
   ]
  },
  {
   "cell_type": "code",
   "execution_count": 153,
   "metadata": {},
   "outputs": [
    {
     "data": {
      "text/html": [
       "<div>\n",
       "<table border=\"1\" class=\"dataframe\">\n",
       "  <thead>\n",
       "    <tr style=\"text-align: right;\">\n",
       "      <th></th>\n",
       "      <th></th>\n",
       "      <th>name</th>\n",
       "      <th>status</th>\n",
       "      <th>province</th>\n",
       "      <th>birthPlace</th>\n",
       "      <th>deathDate</th>\n",
       "      <th>deathCause</th>\n",
       "    </tr>\n",
       "    <tr>\n",
       "      <th>actor</th>\n",
       "      <th>gender</th>\n",
       "      <th></th>\n",
       "      <th></th>\n",
       "      <th></th>\n",
       "      <th></th>\n",
       "      <th></th>\n",
       "      <th></th>\n",
       "    </tr>\n",
       "  </thead>\n",
       "  <tbody>\n",
       "    <tr>\n",
       "      <th rowspan=\"3\" valign=\"top\">Al-Nusra Front</th>\n",
       "      <th>Adult - Female</th>\n",
       "      <td>6</td>\n",
       "      <td>6</td>\n",
       "      <td>6</td>\n",
       "      <td>5</td>\n",
       "      <td>6</td>\n",
       "      <td>6</td>\n",
       "    </tr>\n",
       "    <tr>\n",
       "      <th>Adult - Male</th>\n",
       "      <td>212</td>\n",
       "      <td>212</td>\n",
       "      <td>212</td>\n",
       "      <td>168</td>\n",
       "      <td>212</td>\n",
       "      <td>212</td>\n",
       "    </tr>\n",
       "    <tr>\n",
       "      <th>Child - Male</th>\n",
       "      <td>3</td>\n",
       "      <td>3</td>\n",
       "      <td>3</td>\n",
       "      <td>1</td>\n",
       "      <td>3</td>\n",
       "      <td>3</td>\n",
       "    </tr>\n",
       "    <tr>\n",
       "      <th rowspan=\"4\" valign=\"top\">Armed opposition groups</th>\n",
       "      <th>Adult - Female</th>\n",
       "      <td>150</td>\n",
       "      <td>150</td>\n",
       "      <td>150</td>\n",
       "      <td>127</td>\n",
       "      <td>150</td>\n",
       "      <td>150</td>\n",
       "    </tr>\n",
       "    <tr>\n",
       "      <th>Adult - Male</th>\n",
       "      <td>1548</td>\n",
       "      <td>1549</td>\n",
       "      <td>1549</td>\n",
       "      <td>1302</td>\n",
       "      <td>1549</td>\n",
       "      <td>1549</td>\n",
       "    </tr>\n",
       "    <tr>\n",
       "      <th>Child - Female</th>\n",
       "      <td>68</td>\n",
       "      <td>68</td>\n",
       "      <td>68</td>\n",
       "      <td>56</td>\n",
       "      <td>68</td>\n",
       "      <td>68</td>\n",
       "    </tr>\n",
       "    <tr>\n",
       "      <th>Child - Male</th>\n",
       "      <td>148</td>\n",
       "      <td>148</td>\n",
       "      <td>148</td>\n",
       "      <td>131</td>\n",
       "      <td>148</td>\n",
       "      <td>148</td>\n",
       "    </tr>\n",
       "    <tr>\n",
       "      <th rowspan=\"4\" valign=\"top\">International coalition forces</th>\n",
       "      <th>Adult - Female</th>\n",
       "      <td>343</td>\n",
       "      <td>343</td>\n",
       "      <td>343</td>\n",
       "      <td>310</td>\n",
       "      <td>343</td>\n",
       "      <td>343</td>\n",
       "    </tr>\n",
       "    <tr>\n",
       "      <th>Adult - Male</th>\n",
       "      <td>1363</td>\n",
       "      <td>1363</td>\n",
       "      <td>1363</td>\n",
       "      <td>1042</td>\n",
       "      <td>1363</td>\n",
       "      <td>1363</td>\n",
       "    </tr>\n",
       "    <tr>\n",
       "      <th>Child - Female</th>\n",
       "      <td>188</td>\n",
       "      <td>188</td>\n",
       "      <td>188</td>\n",
       "      <td>169</td>\n",
       "      <td>188</td>\n",
       "      <td>188</td>\n",
       "    </tr>\n",
       "    <tr>\n",
       "      <th>Child - Male</th>\n",
       "      <td>296</td>\n",
       "      <td>297</td>\n",
       "      <td>297</td>\n",
       "      <td>272</td>\n",
       "      <td>297</td>\n",
       "      <td>297</td>\n",
       "    </tr>\n",
       "    <tr>\n",
       "      <th rowspan=\"4\" valign=\"top\">Not identified</th>\n",
       "      <th>Adult - Female</th>\n",
       "      <td>332</td>\n",
       "      <td>332</td>\n",
       "      <td>332</td>\n",
       "      <td>307</td>\n",
       "      <td>332</td>\n",
       "      <td>332</td>\n",
       "    </tr>\n",
       "    <tr>\n",
       "      <th>Adult - Male</th>\n",
       "      <td>2680</td>\n",
       "      <td>2680</td>\n",
       "      <td>2680</td>\n",
       "      <td>2352</td>\n",
       "      <td>2680</td>\n",
       "      <td>2680</td>\n",
       "    </tr>\n",
       "    <tr>\n",
       "      <th>Child - Female</th>\n",
       "      <td>142</td>\n",
       "      <td>143</td>\n",
       "      <td>143</td>\n",
       "      <td>133</td>\n",
       "      <td>143</td>\n",
       "      <td>143</td>\n",
       "    </tr>\n",
       "    <tr>\n",
       "      <th>Child - Male</th>\n",
       "      <td>308</td>\n",
       "      <td>309</td>\n",
       "      <td>309</td>\n",
       "      <td>275</td>\n",
       "      <td>309</td>\n",
       "      <td>309</td>\n",
       "    </tr>\n",
       "    <tr>\n",
       "      <th rowspan=\"4\" valign=\"top\">Russian troops</th>\n",
       "      <th>Adult - Female</th>\n",
       "      <td>596</td>\n",
       "      <td>597</td>\n",
       "      <td>597</td>\n",
       "      <td>543</td>\n",
       "      <td>597</td>\n",
       "      <td>597</td>\n",
       "    </tr>\n",
       "    <tr>\n",
       "      <th>Adult - Male</th>\n",
       "      <td>2312</td>\n",
       "      <td>2313</td>\n",
       "      <td>2313</td>\n",
       "      <td>2126</td>\n",
       "      <td>2313</td>\n",
       "      <td>2313</td>\n",
       "    </tr>\n",
       "    <tr>\n",
       "      <th>Child - Female</th>\n",
       "      <td>409</td>\n",
       "      <td>409</td>\n",
       "      <td>409</td>\n",
       "      <td>392</td>\n",
       "      <td>409</td>\n",
       "      <td>409</td>\n",
       "    </tr>\n",
       "    <tr>\n",
       "      <th>Child - Male</th>\n",
       "      <td>554</td>\n",
       "      <td>554</td>\n",
       "      <td>554</td>\n",
       "      <td>516</td>\n",
       "      <td>554</td>\n",
       "      <td>554</td>\n",
       "    </tr>\n",
       "    <tr>\n",
       "      <th rowspan=\"4\" valign=\"top\">Self administration forces</th>\n",
       "      <th>Adult - Female</th>\n",
       "      <td>32</td>\n",
       "      <td>32</td>\n",
       "      <td>32</td>\n",
       "      <td>26</td>\n",
       "      <td>32</td>\n",
       "      <td>32</td>\n",
       "    </tr>\n",
       "    <tr>\n",
       "      <th>Adult - Male</th>\n",
       "      <td>517</td>\n",
       "      <td>517</td>\n",
       "      <td>517</td>\n",
       "      <td>422</td>\n",
       "      <td>517</td>\n",
       "      <td>517</td>\n",
       "    </tr>\n",
       "    <tr>\n",
       "      <th>Child - Female</th>\n",
       "      <td>19</td>\n",
       "      <td>19</td>\n",
       "      <td>19</td>\n",
       "      <td>16</td>\n",
       "      <td>19</td>\n",
       "      <td>19</td>\n",
       "    </tr>\n",
       "    <tr>\n",
       "      <th>Child - Male</th>\n",
       "      <td>31</td>\n",
       "      <td>31</td>\n",
       "      <td>31</td>\n",
       "      <td>25</td>\n",
       "      <td>31</td>\n",
       "      <td>31</td>\n",
       "    </tr>\n",
       "    <tr>\n",
       "      <th rowspan=\"4\" valign=\"top\">Syrian government and affiliated militias</th>\n",
       "      <th>Adult - Female</th>\n",
       "      <td>1887</td>\n",
       "      <td>1888</td>\n",
       "      <td>1888</td>\n",
       "      <td>1821</td>\n",
       "      <td>1888</td>\n",
       "      <td>1888</td>\n",
       "    </tr>\n",
       "    <tr>\n",
       "      <th>Adult - Male</th>\n",
       "      <td>15536</td>\n",
       "      <td>15544</td>\n",
       "      <td>15544</td>\n",
       "      <td>14381</td>\n",
       "      <td>15541</td>\n",
       "      <td>15544</td>\n",
       "    </tr>\n",
       "    <tr>\n",
       "      <th>Child - Female</th>\n",
       "      <td>1096</td>\n",
       "      <td>1096</td>\n",
       "      <td>1096</td>\n",
       "      <td>1056</td>\n",
       "      <td>1095</td>\n",
       "      <td>1096</td>\n",
       "    </tr>\n",
       "    <tr>\n",
       "      <th>Child - Male</th>\n",
       "      <td>2084</td>\n",
       "      <td>2085</td>\n",
       "      <td>2085</td>\n",
       "      <td>2004</td>\n",
       "      <td>2084</td>\n",
       "      <td>2085</td>\n",
       "    </tr>\n",
       "    <tr>\n",
       "      <th rowspan=\"4\" valign=\"top\">The organization of the Islamic State in Iraq and the Levant - ISIS</th>\n",
       "      <th>Adult - Female</th>\n",
       "      <td>314</td>\n",
       "      <td>314</td>\n",
       "      <td>314</td>\n",
       "      <td>272</td>\n",
       "      <td>314</td>\n",
       "      <td>314</td>\n",
       "    </tr>\n",
       "    <tr>\n",
       "      <th>Adult - Male</th>\n",
       "      <td>5987</td>\n",
       "      <td>5989</td>\n",
       "      <td>5989</td>\n",
       "      <td>5002</td>\n",
       "      <td>5989</td>\n",
       "      <td>5989</td>\n",
       "    </tr>\n",
       "    <tr>\n",
       "      <th>Child - Female</th>\n",
       "      <td>90</td>\n",
       "      <td>90</td>\n",
       "      <td>90</td>\n",
       "      <td>79</td>\n",
       "      <td>90</td>\n",
       "      <td>90</td>\n",
       "    </tr>\n",
       "    <tr>\n",
       "      <th>Child - Male</th>\n",
       "      <td>327</td>\n",
       "      <td>327</td>\n",
       "      <td>327</td>\n",
       "      <td>294</td>\n",
       "      <td>327</td>\n",
       "      <td>327</td>\n",
       "    </tr>\n",
       "  </tbody>\n",
       "</table>\n",
       "</div>"
      ],
      "text/plain": [
       "                                                                    name  \\\n",
       "actor                                              gender                  \n",
       "Al-Nusra Front                                     Adult - Female      6   \n",
       "                                                   Adult - Male      212   \n",
       "                                                   Child - Male        3   \n",
       "Armed opposition groups                            Adult - Female    150   \n",
       "                                                   Adult - Male     1548   \n",
       "                                                   Child - Female     68   \n",
       "                                                   Child - Male      148   \n",
       "International coalition forces                     Adult - Female    343   \n",
       "                                                   Adult - Male     1363   \n",
       "                                                   Child - Female    188   \n",
       "                                                   Child - Male      296   \n",
       "Not identified                                     Adult - Female    332   \n",
       "                                                   Adult - Male     2680   \n",
       "                                                   Child - Female    142   \n",
       "                                                   Child - Male      308   \n",
       "Russian troops                                     Adult - Female    596   \n",
       "                                                   Adult - Male     2312   \n",
       "                                                   Child - Female    409   \n",
       "                                                   Child - Male      554   \n",
       "Self administration forces                         Adult - Female     32   \n",
       "                                                   Adult - Male      517   \n",
       "                                                   Child - Female     19   \n",
       "                                                   Child - Male       31   \n",
       "Syrian government and affiliated militias          Adult - Female   1887   \n",
       "                                                   Adult - Male    15536   \n",
       "                                                   Child - Female   1096   \n",
       "                                                   Child - Male     2084   \n",
       "The organization of the Islamic State in Iraq a... Adult - Female    314   \n",
       "                                                   Adult - Male     5987   \n",
       "                                                   Child - Female     90   \n",
       "                                                   Child - Male      327   \n",
       "\n",
       "                                                                   status  \\\n",
       "actor                                              gender                   \n",
       "Al-Nusra Front                                     Adult - Female       6   \n",
       "                                                   Adult - Male       212   \n",
       "                                                   Child - Male         3   \n",
       "Armed opposition groups                            Adult - Female     150   \n",
       "                                                   Adult - Male      1549   \n",
       "                                                   Child - Female      68   \n",
       "                                                   Child - Male       148   \n",
       "International coalition forces                     Adult - Female     343   \n",
       "                                                   Adult - Male      1363   \n",
       "                                                   Child - Female     188   \n",
       "                                                   Child - Male       297   \n",
       "Not identified                                     Adult - Female     332   \n",
       "                                                   Adult - Male      2680   \n",
       "                                                   Child - Female     143   \n",
       "                                                   Child - Male       309   \n",
       "Russian troops                                     Adult - Female     597   \n",
       "                                                   Adult - Male      2313   \n",
       "                                                   Child - Female     409   \n",
       "                                                   Child - Male       554   \n",
       "Self administration forces                         Adult - Female      32   \n",
       "                                                   Adult - Male       517   \n",
       "                                                   Child - Female      19   \n",
       "                                                   Child - Male        31   \n",
       "Syrian government and affiliated militias          Adult - Female    1888   \n",
       "                                                   Adult - Male     15544   \n",
       "                                                   Child - Female    1096   \n",
       "                                                   Child - Male      2085   \n",
       "The organization of the Islamic State in Iraq a... Adult - Female     314   \n",
       "                                                   Adult - Male      5989   \n",
       "                                                   Child - Female      90   \n",
       "                                                   Child - Male       327   \n",
       "\n",
       "                                                                   province  \\\n",
       "actor                                              gender                     \n",
       "Al-Nusra Front                                     Adult - Female         6   \n",
       "                                                   Adult - Male         212   \n",
       "                                                   Child - Male           3   \n",
       "Armed opposition groups                            Adult - Female       150   \n",
       "                                                   Adult - Male        1549   \n",
       "                                                   Child - Female        68   \n",
       "                                                   Child - Male         148   \n",
       "International coalition forces                     Adult - Female       343   \n",
       "                                                   Adult - Male        1363   \n",
       "                                                   Child - Female       188   \n",
       "                                                   Child - Male         297   \n",
       "Not identified                                     Adult - Female       332   \n",
       "                                                   Adult - Male        2680   \n",
       "                                                   Child - Female       143   \n",
       "                                                   Child - Male         309   \n",
       "Russian troops                                     Adult - Female       597   \n",
       "                                                   Adult - Male        2313   \n",
       "                                                   Child - Female       409   \n",
       "                                                   Child - Male         554   \n",
       "Self administration forces                         Adult - Female        32   \n",
       "                                                   Adult - Male         517   \n",
       "                                                   Child - Female        19   \n",
       "                                                   Child - Male          31   \n",
       "Syrian government and affiliated militias          Adult - Female      1888   \n",
       "                                                   Adult - Male       15544   \n",
       "                                                   Child - Female      1096   \n",
       "                                                   Child - Male        2085   \n",
       "The organization of the Islamic State in Iraq a... Adult - Female       314   \n",
       "                                                   Adult - Male        5989   \n",
       "                                                   Child - Female        90   \n",
       "                                                   Child - Male         327   \n",
       "\n",
       "                                                                   birthPlace  \\\n",
       "actor                                              gender                       \n",
       "Al-Nusra Front                                     Adult - Female           5   \n",
       "                                                   Adult - Male           168   \n",
       "                                                   Child - Male             1   \n",
       "Armed opposition groups                            Adult - Female         127   \n",
       "                                                   Adult - Male          1302   \n",
       "                                                   Child - Female          56   \n",
       "                                                   Child - Male           131   \n",
       "International coalition forces                     Adult - Female         310   \n",
       "                                                   Adult - Male          1042   \n",
       "                                                   Child - Female         169   \n",
       "                                                   Child - Male           272   \n",
       "Not identified                                     Adult - Female         307   \n",
       "                                                   Adult - Male          2352   \n",
       "                                                   Child - Female         133   \n",
       "                                                   Child - Male           275   \n",
       "Russian troops                                     Adult - Female         543   \n",
       "                                                   Adult - Male          2126   \n",
       "                                                   Child - Female         392   \n",
       "                                                   Child - Male           516   \n",
       "Self administration forces                         Adult - Female          26   \n",
       "                                                   Adult - Male           422   \n",
       "                                                   Child - Female          16   \n",
       "                                                   Child - Male            25   \n",
       "Syrian government and affiliated militias          Adult - Female        1821   \n",
       "                                                   Adult - Male         14381   \n",
       "                                                   Child - Female        1056   \n",
       "                                                   Child - Male          2004   \n",
       "The organization of the Islamic State in Iraq a... Adult - Female         272   \n",
       "                                                   Adult - Male          5002   \n",
       "                                                   Child - Female          79   \n",
       "                                                   Child - Male           294   \n",
       "\n",
       "                                                                   deathDate  \\\n",
       "actor                                              gender                      \n",
       "Al-Nusra Front                                     Adult - Female          6   \n",
       "                                                   Adult - Male          212   \n",
       "                                                   Child - Male            3   \n",
       "Armed opposition groups                            Adult - Female        150   \n",
       "                                                   Adult - Male         1549   \n",
       "                                                   Child - Female         68   \n",
       "                                                   Child - Male          148   \n",
       "International coalition forces                     Adult - Female        343   \n",
       "                                                   Adult - Male         1363   \n",
       "                                                   Child - Female        188   \n",
       "                                                   Child - Male          297   \n",
       "Not identified                                     Adult - Female        332   \n",
       "                                                   Adult - Male         2680   \n",
       "                                                   Child - Female        143   \n",
       "                                                   Child - Male          309   \n",
       "Russian troops                                     Adult - Female        597   \n",
       "                                                   Adult - Male         2313   \n",
       "                                                   Child - Female        409   \n",
       "                                                   Child - Male          554   \n",
       "Self administration forces                         Adult - Female         32   \n",
       "                                                   Adult - Male          517   \n",
       "                                                   Child - Female         19   \n",
       "                                                   Child - Male           31   \n",
       "Syrian government and affiliated militias          Adult - Female       1888   \n",
       "                                                   Adult - Male        15541   \n",
       "                                                   Child - Female       1095   \n",
       "                                                   Child - Male         2084   \n",
       "The organization of the Islamic State in Iraq a... Adult - Female        314   \n",
       "                                                   Adult - Male         5989   \n",
       "                                                   Child - Female         90   \n",
       "                                                   Child - Male          327   \n",
       "\n",
       "                                                                   deathCause  \n",
       "actor                                              gender                      \n",
       "Al-Nusra Front                                     Adult - Female           6  \n",
       "                                                   Adult - Male           212  \n",
       "                                                   Child - Male             3  \n",
       "Armed opposition groups                            Adult - Female         150  \n",
       "                                                   Adult - Male          1549  \n",
       "                                                   Child - Female          68  \n",
       "                                                   Child - Male           148  \n",
       "International coalition forces                     Adult - Female         343  \n",
       "                                                   Adult - Male          1363  \n",
       "                                                   Child - Female         188  \n",
       "                                                   Child - Male           297  \n",
       "Not identified                                     Adult - Female         332  \n",
       "                                                   Adult - Male          2680  \n",
       "                                                   Child - Female         143  \n",
       "                                                   Child - Male           309  \n",
       "Russian troops                                     Adult - Female         597  \n",
       "                                                   Adult - Male          2313  \n",
       "                                                   Child - Female         409  \n",
       "                                                   Child - Male           554  \n",
       "Self administration forces                         Adult - Female          32  \n",
       "                                                   Adult - Male           517  \n",
       "                                                   Child - Female          19  \n",
       "                                                   Child - Male            31  \n",
       "Syrian government and affiliated militias          Adult - Female        1888  \n",
       "                                                   Adult - Male         15544  \n",
       "                                                   Child - Female        1096  \n",
       "                                                   Child - Male          2085  \n",
       "The organization of the Islamic State in Iraq a... Adult - Female         314  \n",
       "                                                   Adult - Male          5989  \n",
       "                                                   Child - Female          90  \n",
       "                                                   Child - Male           327  "
      ]
     },
     "execution_count": 153,
     "metadata": {},
     "output_type": "execute_result"
    }
   ],
   "source": [
    "causalities.groupby(['actor', 'gender']).count()"
   ]
  },
  {
   "cell_type": "code",
   "execution_count": 150,
   "metadata": {},
   "outputs": [
    {
     "data": {
      "text/html": [
       "<div>\n",
       "<table border=\"1\" class=\"dataframe\">\n",
       "  <thead>\n",
       "    <tr style=\"text-align: right;\">\n",
       "      <th></th>\n",
       "      <th></th>\n",
       "      <th>name</th>\n",
       "      <th>province</th>\n",
       "      <th>birthPlace</th>\n",
       "      <th>deathDate</th>\n",
       "      <th>deathCause</th>\n",
       "      <th>actor</th>\n",
       "    </tr>\n",
       "    <tr>\n",
       "      <th>status</th>\n",
       "      <th>gender</th>\n",
       "      <th></th>\n",
       "      <th></th>\n",
       "      <th></th>\n",
       "      <th></th>\n",
       "      <th></th>\n",
       "      <th></th>\n",
       "    </tr>\n",
       "  </thead>\n",
       "  <tbody>\n",
       "    <tr>\n",
       "      <th rowspan=\"4\" valign=\"top\">Civilian</th>\n",
       "      <th>Adult - Female</th>\n",
       "      <td>16927</td>\n",
       "      <td>16931</td>\n",
       "      <td>15988</td>\n",
       "      <td>16930</td>\n",
       "      <td>16931</td>\n",
       "      <td>3642</td>\n",
       "    </tr>\n",
       "    <tr>\n",
       "      <th>Adult - Male</th>\n",
       "      <td>107974</td>\n",
       "      <td>108009</td>\n",
       "      <td>98628</td>\n",
       "      <td>107997</td>\n",
       "      <td>108009</td>\n",
       "      <td>17791</td>\n",
       "    </tr>\n",
       "    <tr>\n",
       "      <th>Child - Female</th>\n",
       "      <td>8733</td>\n",
       "      <td>8735</td>\n",
       "      <td>8335</td>\n",
       "      <td>8730</td>\n",
       "      <td>8735</td>\n",
       "      <td>2011</td>\n",
       "    </tr>\n",
       "    <tr>\n",
       "      <th>Child - Male</th>\n",
       "      <td>17583</td>\n",
       "      <td>17588</td>\n",
       "      <td>16603</td>\n",
       "      <td>17587</td>\n",
       "      <td>17588</td>\n",
       "      <td>3688</td>\n",
       "    </tr>\n",
       "    <tr>\n",
       "      <th rowspan=\"4\" valign=\"top\">Non-Civilian</th>\n",
       "      <th>Adult - Female</th>\n",
       "      <td>30</td>\n",
       "      <td>30</td>\n",
       "      <td>30</td>\n",
       "      <td>30</td>\n",
       "      <td>30</td>\n",
       "      <td>20</td>\n",
       "    </tr>\n",
       "    <tr>\n",
       "      <th>Adult - Male</th>\n",
       "      <td>60151</td>\n",
       "      <td>60164</td>\n",
       "      <td>52812</td>\n",
       "      <td>60155</td>\n",
       "      <td>60164</td>\n",
       "      <td>12376</td>\n",
       "    </tr>\n",
       "    <tr>\n",
       "      <th>Child - Female</th>\n",
       "      <td>2</td>\n",
       "      <td>2</td>\n",
       "      <td>2</td>\n",
       "      <td>2</td>\n",
       "      <td>2</td>\n",
       "      <td>2</td>\n",
       "    </tr>\n",
       "    <tr>\n",
       "      <th>Child - Male</th>\n",
       "      <td>448</td>\n",
       "      <td>448</td>\n",
       "      <td>405</td>\n",
       "      <td>448</td>\n",
       "      <td>448</td>\n",
       "      <td>66</td>\n",
       "    </tr>\n",
       "  </tbody>\n",
       "</table>\n",
       "</div>"
      ],
      "text/plain": [
       "                               name  province  birthPlace  deathDate  \\\n",
       "status       gender                                                    \n",
       "Civilian     Adult - Female   16927     16931       15988      16930   \n",
       "             Adult - Male    107974    108009       98628     107997   \n",
       "             Child - Female    8733      8735        8335       8730   \n",
       "             Child - Male     17583     17588       16603      17587   \n",
       "Non-Civilian Adult - Female      30        30          30         30   \n",
       "             Adult - Male     60151     60164       52812      60155   \n",
       "             Child - Female       2         2           2          2   \n",
       "             Child - Male       448       448         405        448   \n",
       "\n",
       "                             deathCause  actor  \n",
       "status       gender                             \n",
       "Civilian     Adult - Female       16931   3642  \n",
       "             Adult - Male        108009  17791  \n",
       "             Child - Female        8735   2011  \n",
       "             Child - Male         17588   3688  \n",
       "Non-Civilian Adult - Female          30     20  \n",
       "             Adult - Male         60164  12376  \n",
       "             Child - Female           2      2  \n",
       "             Child - Male           448     66  "
      ]
     },
     "execution_count": 150,
     "metadata": {},
     "output_type": "execute_result"
    }
   ],
   "source": [
    "causalities.groupby(['status', 'gender']).count()"
   ]
  },
  {
   "cell_type": "code",
   "execution_count": null,
   "metadata": {},
   "outputs": [],
   "source": []
  },
  {
   "cell_type": "code",
   "execution_count": null,
   "metadata": {},
   "outputs": [],
   "source": []
  }
 ],
 "metadata": {
  "kernelspec": {
   "display_name": "Python 3",
   "language": "python",
   "name": "python3"
  },
  "language_info": {
   "codemirror_mode": {
    "name": "ipython",
    "version": 3
   },
   "file_extension": ".py",
   "mimetype": "text/x-python",
   "name": "python",
   "nbconvert_exporter": "python",
   "pygments_lexer": "ipython3",
   "version": "3.6.4"
  }
 },
 "nbformat": 4,
 "nbformat_minor": 2
}
